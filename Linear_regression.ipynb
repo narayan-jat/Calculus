{
  "nbformat": 4,
  "nbformat_minor": 0,
  "metadata": {
    "colab": {
      "provenance": []
    },
    "kernelspec": {
      "name": "python3",
      "display_name": "Python 3"
    },
    "language_info": {
      "name": "python"
    }
  },
  "cells": [
    {
      "cell_type": "markdown",
      "source": [
        "# **About Linear Regression**\n",
        "Linear regression method is used to estimate the slope and intercept of the straight line.\n",
        "Formula of Linear regression: \n",
        "$$y_{i} = m \\cdot x_{i} + c + ϵ_{i}$$\n",
        "\n",
        "To estimate the value of slope and intercept we will find value of $m$ and $c$ so that the following sum of error(SE) is minimized. Expression for SE is as follows:$$SE = \\sum_{i=1}^{n}(y_{i} - m \\cdot x_{i} - c)^2$$ where $m$ is slope and $c$ is intercept.To estimate values of $m$ and $c$ use following equations:\n",
        "$$\\frac{∂SE}{∂m} = 0  \\quad  and \\quad \\frac{∂SE}{∂c} = 0$$\n",
        "Hence calculated values of $m$ and $c$ are:\n",
        "$$m =\\frac{\\overline{xy} - \\overline{x}⋅\\overline{y}}{\\overline{x^2} - (\\overline{x})^2} \\quad \\quad and \\quad \\quad c = \\overline{y} - m \\cdot \\overline{x}$$ Where  $$\\overline{x} = \\frac{1}{n}\\sum_{i=1}^{n}x_{i}  \\quad \\quad and \\quad \\quad \\overline{y} = \\frac{1}{n}\\sum_{i=1}^{n}y_{i} $$"
      ],
      "metadata": {
        "id": "zB6PG_dDecha"
      }
    },
    {
      "cell_type": "markdown",
      "source": [
        "$$!! \\quad LINEAR \\quad REGRESSION \\quad FOR \\quad LINEAR \\quad EQUATION \\quad !!$$\n",
        "$$y_{i} = m \\cdot x_{i} + c + \\epsilon_{i}$$ "
      ],
      "metadata": {
        "id": "_s29QO_zD7pp"
      }
    },
    {
      "cell_type": "code",
      "execution_count": null,
      "metadata": {
        "id": "aDmZSo5Meapk"
      },
      "outputs": [],
      "source": [
        "# Importing required modules.\n",
        "import matplotlib.pyplot as plt\n",
        "import random\n",
        "import math\n",
        "import numpy as np"
      ]
    },
    {
      "cell_type": "code",
      "source": [
        "# Prompting user to enter required values.\n",
        "n = int(input(\"Enter the total number of experiment: \"))\n",
        "m = float(input(\"enter value of m: \"))\n",
        "c = float(input(\"enter value of c: \"))"
      ],
      "metadata": {
        "colab": {
          "base_uri": "https://localhost:8080/"
        },
        "id": "sQlojTOBgHOp",
        "outputId": "64d26a93-92e4-42ad-af4a-52720ae4b8aa"
      },
      "execution_count": null,
      "outputs": [
        {
          "name": "stdout",
          "output_type": "stream",
          "text": [
            "Enter the total number of experiment: 150\n",
            "enter value of m: 5\n",
            "enter value of c: 20\n"
          ]
        }
      ]
    },
    {
      "cell_type": "code",
      "source": [
        "# Difining error function to calculate value of error.\n",
        "def error(alpha, n):\n",
        "    '''\n",
        "    Return: The list of custom error values.\n",
        "\n",
        "    Parameter alpha: It is the number to increase error.\n",
        "    Precondition: It must be a numeric.\n",
        "\n",
        "    Parameter n: It is the number of observation.\n",
        "    Precondition: It must be a numeric.\n",
        "    '''\n",
        "    error_list = []\n",
        "    for i in range(n):\n",
        "        error_list.append((random.random() - 0.5) * alpha)      # Centralised error about zero.\n",
        "    return error_list"
      ],
      "metadata": {
        "id": "p8WfPd7ICkte"
      },
      "execution_count": null,
      "outputs": []
    },
    {
      "cell_type": "code",
      "source": [
        "# Function to calculate value of slope and intercepts after minimising them.\n",
        "def minimised(x_list, y_list, n):\n",
        "    '''\n",
        "    Returns: The tuple of values of minimised slope(m) and intercept(c).\n",
        "\n",
        "    Parameter x_list: It is the list of values of x-axis on graph.\n",
        "    Precondition: It must be a list type containig numeric.\n",
        "\n",
        "    Parameter y_list: It is the list of values of x-axis on graph.\n",
        "    Precondition: It must be a list type containig numeric.\n",
        "\n",
        "    Parameter n: It is the number of observation.\n",
        "    Precondition: It must be a numeric.\n",
        "    '''\n",
        "    # difining variable to store values.\n",
        "    xy = 0\n",
        "    y = 0\n",
        "    x = 0\n",
        "    xSquare = 0\n",
        "    for i in range(n):\n",
        "        y += y_list[i]\n",
        "        x += x_list[i]\n",
        "        xSquare += x_list[i] ** 2\n",
        "        xy += x_list[i] * y_list[i]    \n",
        "    xyBar = xy / n\n",
        "    xBar = x / n\n",
        "    yBar = y / n\n",
        "    xSquareBar = xSquare / n\n",
        "    xBarSquare = xBar ** 2\n",
        "    # Calculating values of m and c using above terms in above mentoned formula for m and c.\n",
        "    m = (xyBar - xBar * yBar) / (xSquareBar - xBarSquare)\n",
        "    c = yBar - m * xBar\n",
        "    return m, c"
      ],
      "metadata": {
        "id": "IC6yK8SeEkq4"
      },
      "execution_count": null,
      "outputs": []
    },
    {
      "cell_type": "code",
      "source": [
        "# x_list and y_list to plots for random values of m and c.\n",
        "x_list = [i / 10 for i in range(n)]\n",
        "alpha = 20        # Error manager.\n",
        "error_list = error(alpha, n)\n",
        "y_listExperiment = []\n",
        "for i in range(n):\n",
        "    # Using equation of straight line.\n",
        "    y_listExperiment.append(m * x_list[i] + c +error_list[i])"
      ],
      "metadata": {
        "id": "GYnrFauGIQFp"
      },
      "execution_count": null,
      "outputs": []
    },
    {
      "cell_type": "code",
      "source": [
        "# Value for plotting after minimising error.\n",
        "y_i_analytical = []\n",
        "newValues = minimised(x_list, y_listExperiment, n)\n",
        "m = newValues[0]\n",
        "c = newValues[1]\n",
        "for i in range(n):\n",
        "    # err = (random.random() - 0.5) * alpha\n",
        "    y_i_analytical.append(m * x_list[i] + c)"
      ],
      "metadata": {
        "id": "L30uW-lKpTBC"
      },
      "execution_count": null,
      "outputs": []
    },
    {
      "cell_type": "code",
      "source": [
        "# Command for drawing graphs.\n",
        "plt.scatter(x_list, y_listExperiment, label = 'Plot for choosen m and c')\n",
        "plt.plot(x_list, y_i_analytical, label = 'Linear Regression', color = 'red')\n",
        "plt.legend()\n",
        "plt.show()"
      ],
      "metadata": {
        "colab": {
          "base_uri": "https://localhost:8080/",
          "height": 265
        },
        "id": "hu6HOTy5SSHZ",
        "outputId": "de3cca11-f38d-44a2-8342-f559c89f1aa9"
      },
      "execution_count": null,
      "outputs": [
        {
          "output_type": "display_data",
          "data": {
            "text/plain": [
              "<Figure size 432x288 with 1 Axes>"
            ],
            "image/png": "[encoded data removed]"
          },
          "metadata": {
            "needs_background": "light"
          }
        }
      ]
    },
    {
      "cell_type": "markdown",
      "source": [
        "$$!! \\quad LINEAR \\quad REGRESSION \\quad FOR \\quad EXPONENTIAL \\quad EQUATION \\quad !!$$\n",
        "$$y_{i} = β\\cdot e^{γx_{i} + ϵ_{i}}$$\n",
        "To solve this by linear regression first of all convert it into linear equation by taking log on both side:$$\\log{y_{i}} =  \\log{β} + γ\\cdot x_{i} + ϵ_{i}$$consider  $ \\quad y_{i}^{new}= \\log{y_{i}}, \\quad c = \\log{β} \\quad and \\quad m = γ$\n",
        "\n",
        "with this new terms apply linear regression method to find $β$ and $γ$."
      ],
      "metadata": {
        "id": "hD_Yk_IpvpnW"
      }
    },
    {
      "cell_type": "code",
      "source": [
        "# Prompting user to enter initial values of gama and beta.\n",
        "gama = float(input(\"enter value of gama: \"))\n",
        "beta = float(input(\"enter value of beta: \"))"
      ],
      "metadata": {
        "colab": {
          "base_uri": "https://localhost:8080/"
        },
        "id": "GeAGnQlRVidz",
        "outputId": "a7608c54-c33c-4bbc-f2a1-68857022437f"
      },
      "execution_count": null,
      "outputs": [
        {
          "name": "stdout",
          "output_type": "stream",
          "text": [
            "enter value of gama: 5\n",
            "enter value of beta: 20\n"
          ]
        }
      ]
    },
    {
      "cell_type": "code",
      "source": [
        "# x_list and y_list to plots for random values of m and c.\n",
        "x_list = [i / 100 for i in range(n)]\n",
        "alpha = 0.8   # Error manager.\n",
        "error_list = error(alpha, n)        # list of error values.\n",
        "y_listExperiment = []\n",
        "for i in range(n):\n",
        "    # conveting exponential to straight line and computing value of log(yi) to calculate value of gama and beta.\n",
        "    y_listExperiment.append(math.log(beta) + gama * x_list[i] + error_list[i])"
      ],
      "metadata": {
        "id": "EDSOR8ZgUbr7"
      },
      "execution_count": null,
      "outputs": []
    },
    {
      "cell_type": "code",
      "source": [
        "# Collecting values after putting obtained values of gama and beta for error to be minimised.\n",
        "y_i_analytical = []\n",
        "newValues = minimised(x_list, y_listExperiment, n)\n",
        "gama = newValues[0]\n",
        "beta = math.exp(newValues[1])\n",
        "for i in range(n):\n",
        "    y_i_analytical.append(beta * (math.exp(gama * x_list[i])))"
      ],
      "metadata": {
        "id": "BFKRtDgrWfBo"
      },
      "execution_count": null,
      "outputs": []
    },
    {
      "cell_type": "code",
      "source": [
        "# Command for drawing graphs.\n",
        "plt.scatter(x_list, [beta * (math.exp(gama * x_list[i] + error_list[i])) for i in range(n)], label = 'plot for choosen Beta and Gama')\n",
        "plt.plot(x_list, y_i_analytical, label = 'Linear Regression', color = 'red')\n",
        "plt.legend()\n",
        "plt.show()"
      ],
      "metadata": {
        "colab": {
          "base_uri": "https://localhost:8080/",
          "height": 267
        },
        "id": "SDvDsPw6YR3N",
        "outputId": "b8a1e139-afe8-47ab-ae68-28d84965b6ec"
      },
      "execution_count": null,
      "outputs": [
        {
          "output_type": "display_data",
          "data": {
            "text/plain": [
              "<Figure size 432x288 with 1 Axes>"
            ],
            "image/png": "[encoded data removed]"
          },
          "metadata": {
            "needs_background": "light"
          }
        }
      ]
    },
    {
      "cell_type": "markdown",
      "source": [
        "$$!!\\quad LINEAR \\quad REGRESSION \\quad FOR \\quad POLYNOMIAL \\quad FUNCTION\\quad !!$$\n",
        "$$y_{i} = m_{0} + m_{1}x_{i} + m_{2}x_{i}^{2} + m_{3}x_{i}^{3} + m_{4}x_{i}^{4} + .....$$\n",
        "To solve this by linear regression first of all convert into linear equation of multi variable as follows:\n",
        "$$y_{i} = m_{0} + m_{1}x_{1i} + m_{2}x_{2i} + m_{3}x_{3i} .......$$where  $ \\quad x_{1i} = x_{i}, \\quad x_{2i} = x_{i}^{2}, x_{3i} = x_{i}^{3} $ and so on.....\n",
        "\n",
        "Now solve linear equation by using linear regression."
      ],
      "metadata": {
        "id": "B11DSBWowlnT"
      }
    },
    {
      "cell_type": "code",
      "source": [
        "# Creating list for value of y with experimental error.\n",
        "degree = int(input('enter the degree of polynomial: '))\n",
        "valueOfm = [float(input(f'Enter value of m_{i}: ')) for i in range(degree + 1)]   # prompting user to enter value of coffiecints adn constants.\n",
        "x_list = [i / 10 for i in range(n)]\n",
        "alpha = 1   # Error manager.\n",
        "error_list = error(alpha, n)        # list of error values.\n",
        "y_listExperiment = []\n",
        "for i in range(n):\n",
        "    # finding values of m1x, m2x^2, m3x^3 etc.\n",
        "    y = valueOfm[0]\n",
        "    for j in range(degree):\n",
        "        y += valueOfm[j + 1] * x_list[i] ** (j + 1)\n",
        "    y_listExperiment.append(y + error_list[i])"
      ],
      "metadata": {
        "id": "Gr8tPBPuwk_O"
      },
      "execution_count": null,
      "outputs": []
    },
    {
      "cell_type": "code",
      "source": [
        "# Calculating value of m's after applying linear regression.\n",
        "finalList = []         # Row vector storing values of finally calculated m.\n",
        "matrix = []            # matrix of values.\n",
        "c_vector = []\n",
        "for p in range(degree * 2 + 1):\n",
        "    sum = 0\n",
        "    sum1 = 0\n",
        "    for i in range(n):\n",
        "        sum1 += y_listExperiment[i] * x_list[i] ** p\n",
        "        sum += x_list[i] ** p\n",
        "    matrix.append(sum)\n",
        "    if p <= degree:      # It will control the size of column vector upto m.\n",
        "        c_vector.append([sum1])\n",
        "for i in range(degree + 1):\n",
        "    if i > degree:\n",
        "        break\n",
        "    finalList.append(matrix[i: degree + 1 + i])"
      ],
      "metadata": {
        "id": "D1IvN4NYccm2"
      },
      "execution_count": null,
      "outputs": []
    },
    {
      "cell_type": "code",
      "source": [
        "# Finally checking closeness between choosen values of m's and calculated values of m.\n",
        "inverse = np.linalg.inv(finalList)              # calculating inverse of matrix.\n",
        "product = np.dot(inverse, c_vector)      # This is the column vector containing values of calculated m.\n",
        "for i in range(degree + 1):\n",
        "    print(f'Choosen values of m_{i}: ', valueOfm[i])\n",
        "    print(f'Calculated values of m_{i}: ', product[i][0])\n",
        "    print()"
      ],
      "metadata": {
        "colab": {
          "base_uri": "https://localhost:8080/"
        },
        "id": "2pFNPFx_xAhr",
        "outputId": "a61f4796-df3f-43c1-b806-b1d32ddfd968"
      },
      "execution_count": null,
      "outputs": [
        {
          "output_type": "stream",
          "name": "stdout",
          "text": [
            "Choosen values of m_0:  36.0\n",
            "Calculated values of m_0:  36.13128662109375\n",
            "\n",
            "Choosen values of m_1:  45.0\n",
            "Calculated values of m_1:  44.969970703125\n",
            "\n",
            "Choosen values of m_2:  8.0\n",
            "Calculated values of m_2:  8.002685546875\n",
            "\n",
            "Choosen values of m_3:  12.0\n",
            "Calculated values of m_3:  12.00360107421875\n",
            "\n",
            "Choosen values of m_4:  23.0\n",
            "Calculated values of m_4:  22.999099731445312\n",
            "\n",
            "Choosen values of m_5:  54.0\n",
            "Calculated values of m_5:  54.00007367134094\n",
            "\n",
            "Choosen values of m_6:  12.0\n",
            "Calculated values of m_6:  11.999997980892658\n",
            "\n"
          ]
        }
      ]
    }
  ]
}