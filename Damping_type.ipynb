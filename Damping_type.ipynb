{
  "nbformat": 4,
  "nbformat_minor": 0,
  "metadata": {
    "colab": {
      "provenance": [],
      "include_colab_link": true
    },
    "kernelspec": {
      "name": "python3",
      "display_name": "Python 3"
    },
    "language_info": {
      "name": "python"
    }
  },
  "cells": [
    {
      "cell_type": "markdown",
      "metadata": {
        "id": "view-in-github",
        "colab_type": "text"
      },
      "source": [
        "<a href=\"https://colab.research.google.com/github/narayan-jat/Calculus/blob/main/Damping_type.ipynb\" target=\"_parent\"><img src=\"https://colab.research.google.com/assets/colab-badge.svg\" alt=\"Open In Colab\"/></a>"
      ]
    },
    {
      "cell_type": "code",
      "source": [
        "import matplotlib.pyplot as plt\n",
        "import math as m"
      ],
      "metadata": {
        "id": "jiYme2Ng3CFL"
      },
      "execution_count": 15,
      "outputs": []
    },
    {
      "cell_type": "code",
      "source": [
        "# Checking damping type.\n",
        "def typeOfDamping(a, b, c, v, x):\n",
        "    '''\n",
        "    Return the type of damping.\n",
        "    \n",
        "    parameter a: It is the coefficient of double derivative.\n",
        "    precondition: It must be numeric value.\n",
        "\n",
        "    parameter b: It is the coefficient of first derivative.\n",
        "    precondition: It must be numeric value.\n",
        "\n",
        "    parameter c: It is the coefficient of x.\n",
        "    precondition: It must be numeric value.\n",
        "\n",
        "    parameter a: It is the coefficient of double derivative.\n",
        "    precondition: It must be numeric value.\n",
        "\n",
        "    parameter x_0: It is the value of x at t=0.\n",
        "    precondition: It must be numeric value.\n",
        "\n",
        "    parameter v_0: It is the value of x derivative at t = 0.\n",
        "    precondition: It must be numeric value.\n",
        "    '''\n",
        "    if b ** 2 - 4 * a * c > 0:\n",
        "        return 'Over Damped'\n",
        "    elif b ** 2 - 4 * a * c == 0:\n",
        "        return 'Critically Damped'\n",
        "    else:\n",
        "        return 'Under Damped'"
      ],
      "metadata": {
        "id": "1SayIVM9IeoJ"
      },
      "execution_count": 16,
      "outputs": []
    },
    {
      "cell_type": "code",
      "source": [
        "def graphtype(a, b, c, x_0, v_0):\n",
        "    '''\n",
        "    Draw the graph based on damping type.\n",
        "    \n",
        "    parameter a: It is the coefficient of double derivative.\n",
        "    precondition: It must be numeric value.\n",
        "\n",
        "    parameter b: It is the coefficient of first derivative.\n",
        "    precondition: It must be numeric value.\n",
        "\n",
        "    parameter c: It is the coefficient of x.\n",
        "    precondition: It must be numeric value.\n",
        "\n",
        "    parameter a: It is the coefficient of double derivative.\n",
        "    precondition: It must be numeric value.\n",
        "\n",
        "    parameter x_0: It is the value of x at t=0.\n",
        "    precondition: It must be numeric value.\n",
        "\n",
        "    parameter v_0: It is the value of x derivative at t = 0.\n",
        "    precondition: It must be numeric value.\n",
        "    '''\n",
        "    value = typeOfDamping(a, b, c, x_0, v_0)\n",
        "    if value == 'Over Damped':\n",
        "        print('Damping type is: ', value)\n",
        "        # calculating d1 and d2\n",
        "        d1 = (v_0 - x_0 * lambda_2) / (lambda_1 - lambda_2)\n",
        "        d2 = (v_0 - x_0 * lambda_1) / (lambda_2 - lambda_1)\n",
        "        t_list = [i / 100 for i in range(101)]  # creating list of time each time differ by 0.01\n",
        "        x_list = []\n",
        "        for t in t_list:\n",
        "            # using eval method to parsh value of t in expression.\n",
        "            x_list.append(eval('d1 * m.exp((lambda_1) * t) + d2 * m.exp((lambda_2) * t)'))\n",
        "    elif value == 'Critically Damped':\n",
        "        print('Damping type is: ', value)\n",
        "        t_list = [i / 100 for i in range(1001)]   # creating list of time.\n",
        "        x_list = []\n",
        "        for t in t_list:\n",
        "            x_list.append(eval('(x_0 + (v_0 - lambda_1* x_0) * t) * m.exp(lambda_1 * t)'))\n",
        "    else:\n",
        "        print('Damping type is: ', value)\n",
        "        t_list = [i / 100 for i in range(1001)]\n",
        "        x_list = []\n",
        "        for t in t_list:\n",
        "            # this is last evaluated value for under damping.\n",
        "            x_list.append(m.exp(alpha * t) * ((x_0 * m.cos(beta * t)) + (v_0 + alpha * x_0 / beta) * m.sin(beta * t)))\n",
        "\n",
        "    plt.plot(t_list, x_list)\n"
      ],
      "metadata": {
        "id": "I_kY_AgTpKPk"
      },
      "execution_count": 17,
      "outputs": []
    },
    {
      "cell_type": "code",
      "source": [
        "# Taking input from user for the case of Over Damping.\n",
        "print('Enter values for Over Damping: ')\n",
        "a = float(input('Enter the cofficient of second derivative: '))\n",
        "b = float(input('Enter the cofficient of first derivative: '))\n",
        "c = float(input('Enter the cofficient of x: '))\n",
        "x_0 = float(input('Enter the value of soution at t=0: '))\n",
        "v_0 = float(input('Enter the value at t=0 of solution derivative: '))"
      ],
      "metadata": {
        "id": "U_mFupwLdZIJ",
        "colab": {
          "base_uri": "https://localhost:8080/"
        },
        "outputId": "2576d13f-9df3-4f4a-a295-24e845bdc387"
      },
      "execution_count": 14,
      "outputs": [
        {
          "name": "stdout",
          "output_type": "stream",
          "text": [
            "Enter values for Over Damping: \n",
            "Enter the cofficient of second derivative: 1\n",
            "Enter the cofficient of first derivative: 19\n",
            "Enter the cofficient of x: 90\n",
            "Enter the value of soution at t=0: 1\n",
            "Enter the value at t=0 of solution derivative: 100\n"
          ]
        }
      ]
    },
    {
      "cell_type": "code",
      "source": [
        "# Calculating lamdas and alpha beta for over damping.\n",
        "lambda_1 = (-b - (b ** 2 - 4 * a * c) ** 0.5) / (2 * a)\n",
        "lambda_2 = (-b + (b ** 2 - 4 * a * c) ** 0.5) / (2 * a)\n",
        "alpha = -b / (2 * a)\n",
        "beta = m.sqrt(abs((b ** 2 / (4 * a ** 2) - (c / a))))\n",
        "graphtype(a, b, c, x_0, v_0)"
      ],
      "metadata": {
        "id": "C6Z4RTXnn4pf",
        "colab": {
          "base_uri": "https://localhost:8080/",
          "height": 282
        },
        "outputId": "b4530bdc-0673-43e2-d113-06edfbbf7221"
      },
      "execution_count": 18,
      "outputs": [
        {
          "output_type": "stream",
          "name": "stdout",
          "text": [
            "Damping type is:  Over Damped\n"
          ]
        },
        {
          "output_type": "display_data",
          "data": {
            "text/plain": [
              "<Figure size 432x288 with 1 Axes>"
            ],
            "image/png": "[encoded data removed]"
          },
          "metadata": {
            "needs_background": "light"
          }
        }
      ]
    },
    {
      "cell_type": "code",
      "source": [
        "# Taking input from user for the case of Under Damping.\n",
        "print('Enter values for Under Damping: ')\n",
        "a = float(input('Enter the cofficient of second derivative: '))\n",
        "b = float(input('Enter the cofficient of first derivative: '))\n",
        "c = float(input('Enter the cofficient of x: '))\n",
        "v_0 = float(input('Enter the value at t=0 of solution derivative: '))"
      ],
      "metadata": {
        "id": "iYflF0XZekV4",
        "colab": {
          "base_uri": "https://localhost:8080/"
        },
        "outputId": "9b230e47-bd26-43c6-b43a-ca7924c993a7"
      },
      "execution_count": 19,
      "outputs": [
        {
          "name": "stdout",
          "output_type": "stream",
          "text": [
            "Enter values for Under Damping: \n",
            "Enter the cofficient of second derivative: 1\n",
            "Enter the cofficient of first derivative: 1\n",
            "Enter the cofficient of x: 90\n",
            "Enter the value at t=0 of solution derivative: 1\n"
          ]
        }
      ]
    },
    {
      "cell_type": "code",
      "source": [
        "# Calculating lamdas and alpha beta for under damping.\n",
        "lambda_1 = (-b - (b ** 2 - 4 * a * c) ** 0.5) / (2 * a)\n",
        "lambda_2 = (-b + (b ** 2 - 4 * a * c) ** 0.5) / (2 * a)\n",
        "alpha = -b / (2 * a)\n",
        "beta = m.sqrt(abs((b ** 2 / (4 * a ** 2) - (c / a))))\n",
        "graphtype(a, b, c, x_0, v_0)"
      ],
      "metadata": {
        "colab": {
          "base_uri": "https://localhost:8080/",
          "height": 282
        },
        "id": "HU0Mgz1vl_Yy",
        "outputId": "fc2789ce-9eb9-437b-af7b-b96cc7cdd6af"
      },
      "execution_count": 20,
      "outputs": [
        {
          "output_type": "stream",
          "name": "stdout",
          "text": [
            "Damping type is:  Under Damped\n"
          ]
        },
        {
          "output_type": "display_data",
          "data": {
            "text/plain": [
              "<Figure size 432x288 with 1 Axes>"
            ],
            "image/png": "[encoded data removed]"
          },
          "metadata": {
            "needs_background": "light"
          }
        }
      ]
    },
    {
      "cell_type": "code",
      "source": [
        "# Taking input from user for the case of Under Damping.\n",
        "print('Enter values for Critically Damping: ')\n",
        "a = float(input('Enter the cofficient of second derivative: '))\n",
        "b = float(input('Enter the cofficient of first derivative: '))\n",
        "c = float(input('Enter the cofficient of x: '))\n",
        "v_0 = float(input('Enter the value at t=0 of solution derivative: '))"
      ],
      "metadata": {
        "id": "WwL7wpl009Ej",
        "colab": {
          "base_uri": "https://localhost:8080/"
        },
        "outputId": "5e162c29-0d2c-44df-df4b-523724ad0131"
      },
      "execution_count": 21,
      "outputs": [
        {
          "name": "stdout",
          "output_type": "stream",
          "text": [
            "Enter values for Critically Damping: \n",
            "Enter the cofficient of second derivative: 1\n",
            "Enter the cofficient of first derivative: 2\n",
            "Enter the cofficient of x: 1\n",
            "Enter the value at t=0 of solution derivative: 1\n"
          ]
        }
      ]
    },
    {
      "cell_type": "code",
      "source": [
        "# Calculating lamdas and alpha beta for critically damping.\n",
        "lambda_1 = (-b - (b ** 2 - 4 * a * c) ** 0.5) / (2 * a)\n",
        "lambda_2 = (-b + (b ** 2 - 4 * a * c) ** 0.5) / (2 * a)\n",
        "alpha = -b / (2 * a)\n",
        "beta = m.sqrt(abs((b ** 2 / (4 * a ** 2) - (c / a))))\n",
        "graphtype(a, b, c, x_0, v_0)"
      ],
      "metadata": {
        "colab": {
          "base_uri": "https://localhost:8080/",
          "height": 282
        },
        "id": "HfGqdfGymBUe",
        "outputId": "f16bb980-b696-479d-d64b-6ce59f47f725"
      },
      "execution_count": 22,
      "outputs": [
        {
          "output_type": "stream",
          "name": "stdout",
          "text": [
            "Damping type is:  Critically Damped\n"
          ]
        },
        {
          "output_type": "display_data",
          "data": {
            "text/plain": [
              "<Figure size 432x288 with 1 Axes>"
            ],
            "image/png": "[encoded data removed]"
          },
          "metadata": {
            "needs_background": "light"
          }
        }
      ]
    }
  ]
}